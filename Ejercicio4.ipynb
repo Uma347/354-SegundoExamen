{
 "cells": [
  {
   "cell_type": "markdown",
   "metadata": {},
   "source": [
    "# Ejercicio 4"
   ]
  },
  {
   "cell_type": "markdown",
   "metadata": {},
   "source": [
    "4. Generar una red neuronal para la compuerta AND."
   ]
  },
  {
   "cell_type": "code",
   "execution_count": 16,
   "metadata": {},
   "outputs": [
    {
     "name": "stdout",
     "output_type": "stream",
     "text": [
      "Error 0.3926817724811843\n",
      "Error 0.008324170105294449\n",
      "Error 0.0057406730145817585\n",
      "Error 0.004629563839231998\n",
      "Error 0.00397710767691592\n",
      "Error 0.0035362748749231845\n",
      "Error 0.0032132750920728123\n",
      "Error 0.002963715810622921\n",
      "Error 0.002763530189116357\n",
      "Error 0.0025983997006668444\n",
      "Salida de entrenamiento:\n",
      "[0.00054341]\n",
      "[0.00274818]\n",
      "[0.00279434]\n",
      "[0.99624906]\n"
     ]
    }
   ],
   "source": [
    "import numpy as np\n",
    "def sigmoid(x,deriv=False):\n",
    "    if deriv:\n",
    "        return x *(1-x)\n",
    "    return 1/(1+ np.exp(-x))\n",
    "\n",
    "X=np.array([[0,0],[0,1],[1,0],[1,1]])\n",
    "Y=np.array([[0],[0],[0],[1]])\n",
    "\n",
    "n_capas=2\n",
    "n_conexiones=4\n",
    "n_salidas=1\n",
    "\n",
    "syn0=2*np.random.random((n_capas,n_conexiones))-1\n",
    "syn1=2*np.random.random((n_conexiones,n_salidas))-1\n",
    "entrenamiento=100000\n",
    "error=10000\n",
    "for j in range(entrenamiento):\n",
    "    layer0=X\n",
    "    layer1=sigmoid(np.dot(layer0,syn0))\n",
    "    layer2=sigmoid(np.dot(layer1,syn1))\n",
    "    layer2_err=Y-layer2\n",
    "    \n",
    "    if(j%error==0):\n",
    "        print(\"Error\",np.mean(np.abs(layer2_err)))\n",
    "    layer2_delta=layer2_err*sigmoid(layer2,deriv=True)\n",
    "    layer1_err=layer2_delta.dot(syn1.T)\n",
    "    layer1_delta=layer1_err*sigmoid(layer1,deriv=True)\n",
    "    syn1+=layer1.T.dot(layer2_delta)\n",
    "    syn0+=layer0.T.dot(layer1_delta)\n",
    "\n",
    "print('Salida de entrenamiento:')\n",
    "\n",
    "for i in layer2:\n",
    "    print (i)\n",
    "    "
   ]
  },
  {
   "cell_type": "code",
   "execution_count": null,
   "metadata": {},
   "outputs": [],
   "source": []
  },
  {
   "cell_type": "code",
   "execution_count": null,
   "metadata": {},
   "outputs": [],
   "source": []
  }
 ],
 "metadata": {
  "kernelspec": {
   "display_name": "Python 3",
   "language": "python",
   "name": "python3"
  },
  "language_info": {
   "codemirror_mode": {
    "name": "ipython",
    "version": 3
   },
   "file_extension": ".py",
   "mimetype": "text/x-python",
   "name": "python",
   "nbconvert_exporter": "python",
   "pygments_lexer": "ipython3",
   "version": "3.8.5"
  }
 },
 "nbformat": 4,
 "nbformat_minor": 4
}
