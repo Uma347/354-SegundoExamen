{
 "cells": [
  {
   "cell_type": "markdown",
   "metadata": {},
   "source": [
    "# Ejercicio 5"
   ]
  },
  {
   "cell_type": "markdown",
   "metadata": {},
   "source": [
    "5. Del dataset https://archive.ics.uci.edu/ml/datasets/Breast+Cancer utilice al menos un 80% de registros categorizados por una clase para entrenar. Obtenga una red neuronal con la librería scikit-learn y la matriz de confusión."
   ]
  },
  {
   "cell_type": "code",
   "execution_count": 6,
   "metadata": {},
   "outputs": [
    {
     "name": "stdout",
     "output_type": "stream",
     "text": [
      "==================================================\n",
      "Matriz de confusión :                             | \n",
      "==================================================\n",
      "[[199   4]\n",
      " [  2  81]]\n",
      "==================================================\n",
      "Precisión           :                            |  \n",
      "==================================================\n",
      "0.9529411764705882 %\n",
      "==================================================\n"
     ]
    }
   ],
   "source": [
    "from sklearn.neural_network import MLPClassifier\n",
    "import pandas as pd\n",
    "import numpy as np\n",
    "\n",
    "\n",
    "from sklearn.preprocessing import LabelEncoder\n",
    "#Leyendo el archivo\n",
    "data= pd.read_csv(\"breast-cancer.csv\", sep=\",\", header=[0])\n",
    "array=np.asarray(data)\n",
    "encoder= LabelEncoder()\n",
    "data['class']=encoder.fit_transform(data.Class.values)\n",
    "data['edad']=encoder.fit_transform(data.age.values)\n",
    "data['menopausia']=encoder.fit_transform(data.menopause.values)\n",
    "data['tamtumor']=encoder.fit_transform(data.tumorsize.values)\n",
    "data['nodos']=encoder.fit_transform(data.invnodes.values)\n",
    "data['capnodos']=encoder.fit_transform(data.nodecaps.values)\n",
    "data['tipo']=encoder.fit_transform(data.degmalig.values)\n",
    "data['seno']=encoder.fit_transform(data.breast.values)\n",
    "data['posicion']=encoder.fit_transform(data.breastquad.values)\n",
    "data['irradiado']=encoder.fit_transform(data.irradiat.values)\n",
    "\n",
    "X=data[['edad','menopausia','tamtumor','nodos','capnodos','tipo','seno','posicion','irradiado']]\n",
    "Y=data['class']\n",
    "\n",
    "from sklearn.metrics import confusion_matrix\n",
    "from sklearn.metrics import precision_score\n",
    "\n",
    "clasificador=MLPClassifier(solver='lbfgs',max_iter=5000)\n",
    "clasificador.fit(X,Y)\n",
    "\n",
    "y_obtenido=clasificador.predict(X)\n",
    "matriz=confusion_matrix(y_obtenido,Y)\n",
    "\n",
    "print(\"==================================================\")\n",
    "print(\"Matriz de confusión :                             | \")\n",
    "print(\"==================================================\")\n",
    "print(matriz)\n",
    "\n",
    "print(\"==================================================\")\n",
    "print(\"Precisión           :                            |  \")\n",
    "print(\"==================================================\")\n",
    "print(precision_score(y_obtenido,Y),\"%\")\n",
    "print(\"==================================================\")\n",
    "\n"
   ]
  },
  {
   "cell_type": "code",
   "execution_count": null,
   "metadata": {},
   "outputs": [],
   "source": []
  }
 ],
 "metadata": {
  "kernelspec": {
   "display_name": "Python 3",
   "language": "python",
   "name": "python3"
  },
  "language_info": {
   "codemirror_mode": {
    "name": "ipython",
    "version": 3
   },
   "file_extension": ".py",
   "mimetype": "text/x-python",
   "name": "python",
   "nbconvert_exporter": "python",
   "pygments_lexer": "ipython3",
   "version": "3.8.5"
  }
 },
 "nbformat": 4,
 "nbformat_minor": 4
}
