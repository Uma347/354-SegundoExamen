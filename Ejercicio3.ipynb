{
 "cells": [
  {
   "cell_type": "markdown",
   "metadata": {},
   "source": [
    "# Ejercicio 3"
   ]
  },
  {
   "cell_type": "markdown",
   "metadata": {},
   "source": [
    "3. Con el uso de DEAP, resolver el anterior ejercicio."
   ]
  },
  {
   "cell_type": "markdown",
   "metadata": {},
   "source": [
    "Importando librerias:"
   ]
  },
  {
   "cell_type": "code",
   "execution_count": 1,
   "metadata": {},
   "outputs": [],
   "source": [
    "import random\n",
    "import numpy \n",
    "from deap import algorithms\n",
    "from deap import base\n",
    "from deap import creator\n",
    "from deap import tools\n",
    "import pandas as pd"
   ]
  },
  {
   "cell_type": "markdown",
   "metadata": {},
   "source": [
    "Leyendo archivo csv:"
   ]
  },
  {
   "cell_type": "code",
   "execution_count": 2,
   "metadata": {},
   "outputs": [],
   "source": [
    "NB_QUEENS = 5\n",
    "data= pd.read_csv(\"recorrido.csv\", sep=\",\", header=None)\n",
    "array=numpy.asarray(data)\n",
    "recorrido= data.iloc[:, :].values\n",
    "nodos=[\"a\",\"b\",\"c\",\"d\",\"e\"]"
   ]
  },
  {
   "cell_type": "markdown",
   "metadata": {},
   "source": [
    "Funciones:"
   ]
  },
  {
   "cell_type": "code",
   "execution_count": 3,
   "metadata": {},
   "outputs": [],
   "source": [
    "def comienzo(nodos,comienzo):\n",
    "    longitud=len(nodos)\n",
    "    indice=-1\n",
    "    for i in range(longitud):\n",
    "        if(nodos[i]==comienzo):\n",
    "            return i\n",
    "def mostrarcamino(ordenado):\n",
    "    longitud=len(ordenado)\n",
    "    sum=0\n",
    "    for i in range(longitud):\n",
    "        print(nodos[ordenado[i]],'-> ',end=\"\")\n",
    "    print(nodos[ordenado[0]])\n",
    "def mostrarcostos(individual):\n",
    "    longitud=len(individual)\n",
    "    sum=0\n",
    "    for i in range(longitud-1):\n",
    "        print(recorrido[individual[i]][individual[i+1]],'   ',end=\"\")\n",
    "    print(recorrido[individual[i+1]][individual[0]])\n",
    "def mostrarnodos(vec):\n",
    "    for i in vec:\n",
    "        print(i,' ',end=\"\")\n",
    "    print()\n",
    "def evaluaPosicion(individual):\n",
    "    longitud=len(individual)\n",
    "    sum=0\n",
    "    for i in range(longitud-1):\n",
    "        sum=sum+recorrido[individual[i]][individual[i+1]]\n",
    "    sum=sum+recorrido[individual[i+1]][individual[0]]\n",
    "    return sum,\n",
    "\n",
    "def principio(individual,a):\n",
    "    longitud=len(individual)\n",
    "    indice=0\n",
    "    for i in range(longitud):\n",
    "        if(individual[i]==a):\n",
    "            indice=i\n",
    "    ordenado=individual[indice:]+individual[:indice]\n",
    "    return ordenado"
   ]
  },
  {
   "cell_type": "code",
   "execution_count": 4,
   "metadata": {},
   "outputs": [],
   "source": [
    "creator.create(\"FitnessMin\", base.Fitness, weights=(-1.0,))\n",
    "creator.create(\"Individual\", list, fitness=creator.FitnessMin)\n",
    "\n",
    "toolbox = base.Toolbox()\n",
    "toolbox.register(\"permutation\", random.sample, range(NB_QUEENS), NB_QUEENS)\n",
    "\n",
    "toolbox.register(\"individual\", tools.initIterate, creator.Individual, toolbox.permutation)\n",
    "toolbox.register(\"population\", tools.initRepeat, list, toolbox.individual)\n",
    "\n",
    "toolbox.register(\"evaluate\", evaluaPosicion)\n",
    "toolbox.register(\"mate\", tools.cxPartialyMatched)\n",
    "toolbox.register(\"mutate\", tools.mutShuffleIndexes, indpb=2.0/NB_QUEENS)\n",
    "toolbox.register(\"select\", tools.selTournament, tournsize=3)"
   ]
  },
  {
   "cell_type": "markdown",
   "metadata": {},
   "source": [
    "Main:"
   ]
  },
  {
   "cell_type": "code",
   "execution_count": 6,
   "metadata": {},
   "outputs": [
    {
     "name": "stdout",
     "output_type": "stream",
     "text": [
      "\n",
      "Nodos :\n",
      "a  b  c  d  e  \n",
      "Recorridos :\n",
      "[[ 0  7  9  8 20]\n",
      " [ 7  0 10  4 11]\n",
      " [ 9 10  0 15  5]\n",
      " [ 8  4 15  0 17]\n",
      " [20 11  5 17  0]]\n",
      "Introduce por favor el nodo de inicio\n",
      "a\n",
      "Mejor recorrido suma : 37\n",
      "a -> d -> b -> e -> c -> a\n",
      "  8    4    11    5    9\n"
     ]
    }
   ],
   "source": [
    "def main(seed=0):\n",
    "    random.seed(seed)\n",
    "    pop = toolbox.population(n=300)\n",
    "    hof = tools.HallOfFame(1)\n",
    "    stats = tools.Statistics(lambda ind: ind.fitness.values)\n",
    "    stats.register(\"Avg\", numpy.mean)\n",
    "    stats.register(\"Std\", numpy.std)\n",
    "    stats.register(\"Min\", numpy.min)\n",
    "    stats.register(\"Max\", numpy.max)\n",
    "\n",
    "    algorithms.eaSimple(pop, toolbox, cxpb=0.5, mutpb=0.2, ngen=100, stats=stats,\n",
    "                        halloffame=hof, verbose=False)\n",
    "    print()\n",
    "    print('Nodos :')\n",
    "    mostrarnodos(nodos)\n",
    "    print('Recorridos :')\n",
    "    print(recorrido)\n",
    "    print('Introduce por favor el nodo de inicio')\n",
    "    nodo=str(input()).lower()\n",
    "     \n",
    "    while nodo==-1:\n",
    "        print('El nodo no existe por favor ingresa uno válido')\n",
    "        nodo=input()\n",
    "    \n",
    "    inicio=comienzo(nodos, nodo)\n",
    "    vector=principio(pop[0], inicio)\n",
    "    print('Mejor recorrido suma :', evaluaPosicion(pop[0])[0])\n",
    "    mostrarcamino(vector)\n",
    "    print(\"  \",end=\"\")\n",
    "    mostrarcostos(vector)\n",
    "    \n",
    "    return pop, stats, hof\n",
    "\n",
    "if __name__ == \"__main__\":\n",
    "    pop, stats, hof=main()\n",
    "   \n",
    "    "
   ]
  },
  {
   "cell_type": "code",
   "execution_count": null,
   "metadata": {},
   "outputs": [],
   "source": []
  }
 ],
 "metadata": {
  "kernelspec": {
   "display_name": "Python 3",
   "language": "python",
   "name": "python3"
  },
  "language_info": {
   "codemirror_mode": {
    "name": "ipython",
    "version": 3
   },
   "file_extension": ".py",
   "mimetype": "text/x-python",
   "name": "python",
   "nbconvert_exporter": "python",
   "pygments_lexer": "ipython3",
   "version": "3.8.5"
  }
 },
 "nbformat": 4,
 "nbformat_minor": 4
}
